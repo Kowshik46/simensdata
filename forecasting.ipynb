{
 "cells": [
  {
   "cell_type": "code",
   "execution_count": 89,
   "id": "5f51a9d8-408c-45da-9c3e-41f52dafd64c",
   "metadata": {},
   "outputs": [],
   "source": [
    "import pandas as pd\n",
    "import numpy as np\n",
    "import seaborn as sns \n",
    "import warnings \n",
    "warnings.filterwarnings(\"ignore\")"
   ]
  },
  {
   "cell_type": "code",
   "execution_count": 33,
   "id": "0e11c4aa-131d-4007-ab11-d1246b70a084",
   "metadata": {},
   "outputs": [],
   "source": [
    "data=pd.read_csv(\"data.csv\")"
   ]
  },
  {
   "cell_type": "code",
   "execution_count": 34,
   "id": "c2d4972c-120d-4d77-9930-5784a09ccd34",
   "metadata": {},
   "outputs": [
    {
     "name": "stdout",
     "output_type": "stream",
     "text": [
      "   Year  Total All Fuels  Coal   Oil Natural gas Nuclear  Hydro  \\\n",
      "0  1920             3.68  3.67  0.02          -       -     0.0   \n",
      "1  1921             3.19  3.10  0.09          -       -     0.0   \n",
      "2  1922             3.21  3.17  0.04          -       -     0.0   \n",
      "3  1923             3.62  3.57  0.05          -       -     0.0   \n",
      "4  1924             3.90  3.85  0.05          -       -     0.0   \n",
      "\n",
      "  Wind and Solar Coke and breeze  Others  \n",
      "0            NaN              -      NaN  \n",
      "1            NaN              -      NaN  \n",
      "2            NaN              -      NaN  \n",
      "3            NaN              -      NaN  \n",
      "4            NaN              -      NaN  \n"
     ]
    }
   ],
   "source": [
    "print(data.head())"
   ]
  },
  {
   "cell_type": "code",
   "execution_count": 35,
   "id": "52fdff81-8b0e-43c0-8cf0-1331fe67b38c",
   "metadata": {},
   "outputs": [
    {
     "data": {
      "text/plain": [
       "Index(['Year', 'Total All Fuels', 'Coal', 'Oil', 'Natural gas', 'Nuclear',\n",
       "       'Hydro', 'Wind and Solar', 'Coke and breeze', 'Others'],\n",
       "      dtype='object')"
      ]
     },
     "execution_count": 35,
     "metadata": {},
     "output_type": "execute_result"
    }
   ],
   "source": [
    "data.columns"
   ]
  },
  {
   "cell_type": "code",
   "execution_count": 64,
   "id": "cdb47016-a148-4f39-bd68-98bdada43ff5",
   "metadata": {},
   "outputs": [
    {
     "data": {
      "text/plain": [
       "Year                 int64\n",
       "Total All Fuels    float64\n",
       "Coal               float64\n",
       "Oil                float64\n",
       "Natural gas         object\n",
       "Nuclear             object\n",
       "Hydro              float64\n",
       "Wind and Solar      object\n",
       "Coke and breeze     object\n",
       "Others             float64\n",
       "dtype: object"
      ]
     },
     "execution_count": 64,
     "metadata": {},
     "output_type": "execute_result"
    }
   ],
   "source": [
    "data.dtypes"
   ]
  },
  {
   "cell_type": "code",
   "execution_count": 57,
   "id": "f4c1c47f-e523-459a-897c-2136acae32f4",
   "metadata": {},
   "outputs": [
    {
     "name": "stdout",
     "output_type": "stream",
     "text": [
      "Year                0\n",
      "Total All Fuels     0\n",
      "Coal                0\n",
      "Oil                 0\n",
      "Natural gas         0\n",
      "Nuclear             0\n",
      "Hydro               0\n",
      "Wind and Solar     67\n",
      "Coke and breeze     0\n",
      "Others             67\n",
      "dtype: int64\n"
     ]
    }
   ],
   "source": [
    "print(data.isnull().sum())"
   ]
  },
  {
   "cell_type": "code",
   "execution_count": 38,
   "id": "0119475d-4fb8-49c4-bc93-6aef39fedb4e",
   "metadata": {},
   "outputs": [],
   "source": [
    "def extract_cat_num(df):\n",
    "    cat_col=[col for col in df.columns if df[col].dtype=='object']\n",
    "    num_col=[col for col in df.columns if df[col].dtype!='object']\n",
    "    return cat_col,num_col"
   ]
  },
  {
   "cell_type": "code",
   "execution_count": 39,
   "id": "37492b1b-1811-4c8e-b807-19247146e295",
   "metadata": {},
   "outputs": [],
   "source": [
    "cat_col,num_col=extract_cat_num(data)"
   ]
  },
  {
   "cell_type": "code",
   "execution_count": 40,
   "id": "df7cce7e-6ec7-4eec-a58e-7e35950e5437",
   "metadata": {},
   "outputs": [
    {
     "data": {
      "text/plain": [
       "['Natural gas', 'Nuclear', 'Wind and Solar', 'Coke and breeze']"
      ]
     },
     "execution_count": 40,
     "metadata": {},
     "output_type": "execute_result"
    }
   ],
   "source": [
    "cat_col"
   ]
  },
  {
   "cell_type": "code",
   "execution_count": 55,
   "id": "c8dc4e4b-ca16-4be9-adff-3f2828be619d",
   "metadata": {},
   "outputs": [
    {
     "name": "stdout",
     "output_type": "stream",
     "text": [
      "Natural gas has ['0.0' '0.11' '0.64' '1.61' '2.46' '2.14' '1.28' '0.86' '0.54' '0.42'\n",
      " '0.21' '0.18' '0.91' '0.97' '0.56' '0.57' '1.54' '7.04' '10.1' '13.27'\n",
      " '17.36' '21.57' '23.02' '27.13' '27.91' '26.87' '28.33' '27.85' '29.25'\n",
      " '28.52' '26.78' '30.6' '32.4' '30.9' '32.43' '26.58' '18.62' '17.7'\n",
      " '18.73' '18.28' '25.63' '24.6' '23.51' '23.47' '20.29'] values \n",
      "\n",
      "\n",
      "Nuclear has ['0.0' '0.02' '0.13' '0.1' '0.38' '0.65' '0.75' '1.09' '1.86' '2.39'\n",
      " '4.34' '5.8' '6.68' '7.51' '7.91' '7' '7.37' '7.87' '7.46' '8.97' '8.12'\n",
      " '9.56' '10.64' '9.96' '10.23' '9.91' '10.18' '11.88' '13.47' '14.5'\n",
      " '16.5' '15.44' '14.44' '16.57' '17.74' '16.26' '17.43' '18.45' '21.58'\n",
      " '21.2' '21.25' '22.18' '21.98' '23.44' '22.22' '19.64' '20.77' '20.1'\n",
      " '20.04' '18.16' '18.37' '17.13' '14.04' '11.91' '15.23' '13.93' '15.63'\n",
      " '15.21' '13.85' '15.48' '15.41' '15.12' '14.06' '12.09' '10.72'] values \n",
      "\n",
      "\n",
      "Wind and Solar has [nan '0.0' '0.04' '0.06' '0.08' '0.07' '0.11' '0.17' '0.25' '0.36' '0.46'\n",
      " '0.61' '0.8' '0.89' '1.39' '1.82' '2.61' '3.1' '4.11' '4.09' '5.25'\n",
      " '5.98' '6.57' '7.61'] values \n",
      "\n",
      "\n",
      "Coke and breeze has ['0.0' '0.14' '0.17' '0.15' '0.13' '0.11' '0.12' '0.18' '0.21' '0.22'\n",
      " '0.25' '0.28' '0.5' '0.58' '0.55' '0.59' '0.72' '0.67' '0.56' '0.66'\n",
      " '0.75' '0.54' '0.61' '0.44' '0.45' '0.32' '0.42' '-'] values \n",
      "\n",
      "\n"
     ]
    }
   ],
   "source": [
    "for col in cat_col:\n",
    "    print('{} has {} values '.format(col,data[col].unique()))\n",
    "    print('\\n')"
   ]
  },
  {
   "cell_type": "code",
   "execution_count": 61,
   "id": "47830b36-af53-4982-b120-d14ee99f5c1d",
   "metadata": {},
   "outputs": [],
   "source": [
    "data=data.replace(to_replace = '- ', value = '0.0')\n",
    "data=data.replace(to_replace = '-', value = '0.0')"
   ]
  },
  {
   "cell_type": "code",
   "execution_count": 71,
   "id": "8deb912e-51cb-4c24-aad7-00eed023ba7e",
   "metadata": {},
   "outputs": [
    {
     "data": {
      "text/html": [
       "<div>\n",
       "<style scoped>\n",
       "    .dataframe tbody tr th:only-of-type {\n",
       "        vertical-align: middle;\n",
       "    }\n",
       "\n",
       "    .dataframe tbody tr th {\n",
       "        vertical-align: top;\n",
       "    }\n",
       "\n",
       "    .dataframe thead th {\n",
       "        text-align: right;\n",
       "    }\n",
       "</style>\n",
       "<table border=\"1\" class=\"dataframe\">\n",
       "  <thead>\n",
       "    <tr style=\"text-align: right;\">\n",
       "      <th></th>\n",
       "      <th>Year</th>\n",
       "      <th>Total All Fuels</th>\n",
       "      <th>Coal</th>\n",
       "      <th>Oil</th>\n",
       "      <th>Natural gas</th>\n",
       "      <th>Nuclear</th>\n",
       "      <th>Hydro</th>\n",
       "      <th>Wind and Solar</th>\n",
       "      <th>Coke and breeze</th>\n",
       "      <th>Others</th>\n",
       "    </tr>\n",
       "  </thead>\n",
       "  <tbody>\n",
       "    <tr>\n",
       "      <th>0</th>\n",
       "      <td>1920</td>\n",
       "      <td>3.68</td>\n",
       "      <td>3.67</td>\n",
       "      <td>0.02</td>\n",
       "      <td>0.00</td>\n",
       "      <td>0.00</td>\n",
       "      <td>0.00</td>\n",
       "      <td>0.00</td>\n",
       "      <td>0.0</td>\n",
       "      <td>0.00</td>\n",
       "    </tr>\n",
       "    <tr>\n",
       "      <th>1</th>\n",
       "      <td>1921</td>\n",
       "      <td>3.19</td>\n",
       "      <td>3.10</td>\n",
       "      <td>0.09</td>\n",
       "      <td>0.00</td>\n",
       "      <td>0.00</td>\n",
       "      <td>0.00</td>\n",
       "      <td>0.00</td>\n",
       "      <td>0.0</td>\n",
       "      <td>0.00</td>\n",
       "    </tr>\n",
       "    <tr>\n",
       "      <th>2</th>\n",
       "      <td>1922</td>\n",
       "      <td>3.21</td>\n",
       "      <td>3.17</td>\n",
       "      <td>0.04</td>\n",
       "      <td>0.00</td>\n",
       "      <td>0.00</td>\n",
       "      <td>0.00</td>\n",
       "      <td>0.00</td>\n",
       "      <td>0.0</td>\n",
       "      <td>0.00</td>\n",
       "    </tr>\n",
       "    <tr>\n",
       "      <th>3</th>\n",
       "      <td>1923</td>\n",
       "      <td>3.62</td>\n",
       "      <td>3.57</td>\n",
       "      <td>0.05</td>\n",
       "      <td>0.00</td>\n",
       "      <td>0.00</td>\n",
       "      <td>0.00</td>\n",
       "      <td>0.00</td>\n",
       "      <td>0.0</td>\n",
       "      <td>0.00</td>\n",
       "    </tr>\n",
       "    <tr>\n",
       "      <th>4</th>\n",
       "      <td>1924</td>\n",
       "      <td>3.90</td>\n",
       "      <td>3.85</td>\n",
       "      <td>0.05</td>\n",
       "      <td>0.00</td>\n",
       "      <td>0.00</td>\n",
       "      <td>0.00</td>\n",
       "      <td>0.00</td>\n",
       "      <td>0.0</td>\n",
       "      <td>0.00</td>\n",
       "    </tr>\n",
       "    <tr>\n",
       "      <th>...</th>\n",
       "      <td>...</td>\n",
       "      <td>...</td>\n",
       "      <td>...</td>\n",
       "      <td>...</td>\n",
       "      <td>...</td>\n",
       "      <td>...</td>\n",
       "      <td>...</td>\n",
       "      <td>...</td>\n",
       "      <td>...</td>\n",
       "      <td>...</td>\n",
       "    </tr>\n",
       "    <tr>\n",
       "      <th>96</th>\n",
       "      <td>2016</td>\n",
       "      <td>63.67</td>\n",
       "      <td>7.53</td>\n",
       "      <td>0.58</td>\n",
       "      <td>25.63</td>\n",
       "      <td>15.41</td>\n",
       "      <td>0.46</td>\n",
       "      <td>4.09</td>\n",
       "      <td>0.0</td>\n",
       "      <td>9.96</td>\n",
       "    </tr>\n",
       "    <tr>\n",
       "      <th>97</th>\n",
       "      <td>2017</td>\n",
       "      <td>61.71</td>\n",
       "      <td>5.55</td>\n",
       "      <td>0.54</td>\n",
       "      <td>24.60</td>\n",
       "      <td>15.12</td>\n",
       "      <td>0.51</td>\n",
       "      <td>5.25</td>\n",
       "      <td>0.0</td>\n",
       "      <td>10.13</td>\n",
       "    </tr>\n",
       "    <tr>\n",
       "      <th>98</th>\n",
       "      <td>2018</td>\n",
       "      <td>59.88</td>\n",
       "      <td>4.24</td>\n",
       "      <td>0.49</td>\n",
       "      <td>23.51</td>\n",
       "      <td>14.06</td>\n",
       "      <td>0.47</td>\n",
       "      <td>5.98</td>\n",
       "      <td>0.0</td>\n",
       "      <td>11.13</td>\n",
       "    </tr>\n",
       "    <tr>\n",
       "      <th>99</th>\n",
       "      <td>2019</td>\n",
       "      <td>56.87</td>\n",
       "      <td>1.85</td>\n",
       "      <td>0.50</td>\n",
       "      <td>23.47</td>\n",
       "      <td>12.09</td>\n",
       "      <td>0.50</td>\n",
       "      <td>6.57</td>\n",
       "      <td>0.0</td>\n",
       "      <td>11.90</td>\n",
       "    </tr>\n",
       "    <tr>\n",
       "      <th>100</th>\n",
       "      <td>2020</td>\n",
       "      <td>54.10</td>\n",
       "      <td>1.47</td>\n",
       "      <td>0.35</td>\n",
       "      <td>20.29</td>\n",
       "      <td>10.72</td>\n",
       "      <td>0.58</td>\n",
       "      <td>7.61</td>\n",
       "      <td>0.0</td>\n",
       "      <td>13.07</td>\n",
       "    </tr>\n",
       "  </tbody>\n",
       "</table>\n",
       "<p>101 rows × 10 columns</p>\n",
       "</div>"
      ],
      "text/plain": [
       "     Year  Total All Fuels  Coal   Oil  Natural gas  Nuclear  Hydro  \\\n",
       "0    1920             3.68  3.67  0.02         0.00     0.00   0.00   \n",
       "1    1921             3.19  3.10  0.09         0.00     0.00   0.00   \n",
       "2    1922             3.21  3.17  0.04         0.00     0.00   0.00   \n",
       "3    1923             3.62  3.57  0.05         0.00     0.00   0.00   \n",
       "4    1924             3.90  3.85  0.05         0.00     0.00   0.00   \n",
       "..    ...              ...   ...   ...          ...      ...    ...   \n",
       "96   2016            63.67  7.53  0.58        25.63    15.41   0.46   \n",
       "97   2017            61.71  5.55  0.54        24.60    15.12   0.51   \n",
       "98   2018            59.88  4.24  0.49        23.51    14.06   0.47   \n",
       "99   2019            56.87  1.85  0.50        23.47    12.09   0.50   \n",
       "100  2020            54.10  1.47  0.35        20.29    10.72   0.58   \n",
       "\n",
       "     Wind and Solar  Coke and breeze  Others  \n",
       "0              0.00              0.0    0.00  \n",
       "1              0.00              0.0    0.00  \n",
       "2              0.00              0.0    0.00  \n",
       "3              0.00              0.0    0.00  \n",
       "4              0.00              0.0    0.00  \n",
       "..              ...              ...     ...  \n",
       "96             4.09              0.0    9.96  \n",
       "97             5.25              0.0   10.13  \n",
       "98             5.98              0.0   11.13  \n",
       "99             6.57              0.0   11.90  \n",
       "100            7.61              0.0   13.07  \n",
       "\n",
       "[101 rows x 10 columns]"
      ]
     },
     "execution_count": 71,
     "metadata": {},
     "output_type": "execute_result"
    }
   ],
   "source": [
    "data.fillna(0)"
   ]
  },
  {
   "cell_type": "code",
   "execution_count": 72,
   "id": "b06aa322-aa12-41c8-b4d1-f80ad68e2624",
   "metadata": {},
   "outputs": [],
   "source": [
    "for i in range(len(cat_col)) :\n",
    "    data[cat_col[i]] = data[cat_col[i]].astype(float)"
   ]
  },
  {
   "cell_type": "code",
   "execution_count": 73,
   "id": "1c493fd2-117c-4909-be32-f4d4a96fdb73",
   "metadata": {},
   "outputs": [
    {
     "data": {
      "text/plain": [
       "Year                 int64\n",
       "Total All Fuels    float64\n",
       "Coal               float64\n",
       "Oil                float64\n",
       "Natural gas        float64\n",
       "Nuclear            float64\n",
       "Hydro              float64\n",
       "Wind and Solar     float64\n",
       "Coke and breeze    float64\n",
       "Others             float64\n",
       "dtype: object"
      ]
     },
     "execution_count": 73,
     "metadata": {},
     "output_type": "execute_result"
    }
   ],
   "source": [
    "data.dtypes"
   ]
  },
  {
   "cell_type": "code",
   "execution_count": 79,
   "id": "d6fb113d-047a-4eab-bac3-01173c149367",
   "metadata": {},
   "outputs": [],
   "source": [
    "data=data.fillna(0)"
   ]
  },
  {
   "cell_type": "code",
   "execution_count": 82,
   "id": "61fac224-0cb5-44db-8f8c-abe049974e2a",
   "metadata": {},
   "outputs": [
    {
     "name": "stdout",
     "output_type": "stream",
     "text": [
      "Year               0\n",
      "Total All Fuels    0\n",
      "Coal               0\n",
      "Oil                0\n",
      "Natural gas        0\n",
      "Nuclear            0\n",
      "Hydro              0\n",
      "Wind and Solar     0\n",
      "Coke and breeze    0\n",
      "Others             0\n",
      "dtype: int64\n"
     ]
    }
   ],
   "source": [
    "print(data.isnull().sum())"
   ]
  },
  {
   "cell_type": "code",
   "execution_count": 99,
   "id": "849d01b0-3bec-4731-b854-f913cd95ee71",
   "metadata": {},
   "outputs": [
    {
     "data": {
      "text/plain": [
       "<AxesSubplot:xlabel='Year', ylabel='Wind and Solar'>"
      ]
     },
     "execution_count": 99,
     "metadata": {},
     "output_type": "execute_result"
    },
    {
     "data": {
      "image/png": "[encoded data removed]",
      "text/plain": [
       "<Figure size 432x288 with 1 Axes>"
      ]
     },
     "metadata": {
      "needs_background": "light"
     },
     "output_type": "display_data"
    }
   ],
   "source": [
    "sns.lineplot(data=data, x=\"Year\", y=\"Wind and Solar\")"
   ]
  },
  {
   "cell_type": "code",
   "execution_count": null,
   "id": "5cd8d0b6-a548-4cab-b425-a30ed0d84567",
   "metadata": {},
   "outputs": [],
   "source": []
  }
 ],
 "metadata": {
  "kernelspec": {
   "display_name": "Python 3 (ipykernel)",
   "language": "python",
   "name": "python3"
  },
  "language_info": {
   "codemirror_mode": {
    "name": "ipython",
    "version": 3
   },
   "file_extension": ".py",
   "mimetype": "text/x-python",
   "name": "python",
   "nbconvert_exporter": "python",
   "pygments_lexer": "ipython3",
   "version": "3.10.3"
  }
 },
 "nbformat": 4,
 "nbformat_minor": 5
}
